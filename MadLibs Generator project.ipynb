{
 "cells": [
  {
   "cell_type": "code",
   "execution_count": 1,
   "metadata": {},
   "outputs": [],
   "source": [
    "#Madlibs generator python code by Aniesh Das"
   ]
  },
  {
   "cell_type": "code",
   "execution_count": 2,
   "metadata": {},
   "outputs": [],
   "source": [
    "#import module\n",
    "from tkinter import *\n",
    "\n",
    "# initialize window\n",
    "root = Tk()\n",
    "root.geometry('300x300')\n",
    "root.title('DataFlair-Mad Libs Generator')\n",
    "Label(root, text= 'Mad Libs Generator \\n Have Fun!' , font = 'arial 20 bold').pack()\n",
    "Label(root, text = 'Click Any One :', font = 'arial 15 bold').place(x=40, y=80)\n"
   ]
  },
  {
   "cell_type": "code",
   "execution_count": 3,
   "metadata": {},
   "outputs": [],
   "source": [
    "def madlib1():\n",
    "\n",
    "    animals= input('enter an animal name : ')\n",
    "    profession = input('enter a profession: ')\n",
    "    cloth = input('enter name of a piece of clothing: ')\n",
    "    things = input('enter a thing name: ')\n",
    "    name= input('enter a name: ')\n",
    "    place = input('enter a place name: ')\n",
    "    verb = input('enter a verb in ing form: ')\n",
    "    food = input('a food name: ')\n",
    "    print('say ' + food + ',said the photographer as the camera flashed! ' + name + ' and I had gone to ' + place +' to get our photos taken today. The first photo we really wanted was a picture of us dressed as ' + animals + ' pretending to be a ' + profession + ' .when we saw the second photo, it was exactly what I wanted. We both looked like ' + things + ' wearing ' + cloth + ' and ' + verb + ' --exactly what I had in mind')"
   ]
  },
  {
   "cell_type": "code",
   "execution_count": 4,
   "metadata": {},
   "outputs": [],
   "source": [
    "def madlib2():\n",
    "   \n",
    "    adjactive = input('enter an adjective : ')\n",
    "    color = input('enter a color name : ')\n",
    "    thing = input('enter a thing name :')\n",
    "    place = input('enter a place name : ')\n",
    "    person= input('enter a person\\'s name : ')\n",
    "    adjactive1 = input('enter an adjective : ')\n",
    "    insect= input('enter an insect name : ')\n",
    "    food = input('enter a food name : ')\n",
    "    verb = input('enter a verb : ')\n",
    "\n",
    "    print('Last night I dreamt I was a ' +adjactive+ ' butterfly with ' + color+ ' clothes that looked like '+thing+ ' .I flew to ' + place+ ' with my bestfriend and '+person+ ' who was a '+adjactive1+ ' ' +insect +' .We ate some ' +food+ ' when we got there and then decided to '+verb+ ' and the dream ended when I said-- lets ' +verb+ '.')"
   ]
  },
  {
   "cell_type": "code",
   "execution_count": 5,
   "metadata": {},
   "outputs": [],
   "source": [
    "def madlib3():\n",
    "    person = input('enter a person name: ')\n",
    "    color = input('enter a colour : ')\n",
    "    foods = input('enter a food name : ')\n",
    "    adjective = input('enter an adjective : ')\n",
    "    thing = input('enter a thing name : ')\n",
    "    place = input('enter place : ')\n",
    "    verb = input('enter verb : ')\n",
    "    adverb = input('enter adverb : ')\n",
    "    food = input('enter food name: ')\n",
    "    things = input('enter a thing name : ')\n",
    "    \n",
    "    print('Today we picked up an apple from '+person+ \"'s Orchard. I had no idea there were so many different varieties of apples. I ate \" +color+ ' apples straight off the tree that tasted like '+foods+ '. Then there was a '+adjective+ ' apple that looked like a ' + thing + '.When our bags were full, we went on a ride for a daytrip to '+place+ ' and back. It ended at a hay pile where we got to ' +verb+ ' ' +adverb+ '. I can hardly wait to get home and cook with the apples. We are going to make appple '+food+ ' and '+things+' pies!.')  "
   ]
  },
  {
   "cell_type": "code",
   "execution_count": null,
   "metadata": {
    "scrolled": true
   },
   "outputs": [],
   "source": [
    "Button(root, text= 'The Photographer', font ='arial 15', command= madlib1, bg = 'ghost white').place(x=60, y=120)\n",
    "Button(root, text= 'The Apple story', font ='arial 15', command = madlib3 , bg = 'ghost white').place(x=70, y=180)\n",
    "Button(root, text= 'The Butterfly', font ='arial 15', command = madlib2, bg = 'ghost white').place(x=80, y=240)\n",
    "\n",
    "root.mainloop()"
   ]
  },
  {
   "cell_type": "code",
   "execution_count": null,
   "metadata": {},
   "outputs": [],
   "source": []
  }
 ],
 "metadata": {
  "kernelspec": {
   "display_name": "Python 3",
   "language": "python",
   "name": "python3"
  },
  "language_info": {
   "codemirror_mode": {
    "name": "ipython",
    "version": 3
   },
   "file_extension": ".py",
   "mimetype": "text/x-python",
   "name": "python",
   "nbconvert_exporter": "python",
   "pygments_lexer": "ipython3",
   "version": "3.7.3"
  }
 },
 "nbformat": 4,
 "nbformat_minor": 2
}
